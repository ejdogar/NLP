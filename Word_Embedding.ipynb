{
  "nbformat": 4,
  "nbformat_minor": 0,
  "metadata": {
    "colab": {
      "provenance": [],
      "gpuType": "T4",
      "mount_file_id": "1S1agxVqabQ5csZT5R-XgKRkJHtb39gs1",
      "authorship_tag": "ABX9TyPQl3+WbxICkB4U4uPXCHGY",
      "include_colab_link": true
    },
    "kernelspec": {
      "name": "python3",
      "display_name": "Python 3"
    },
    "language_info": {
      "name": "python"
    },
    "accelerator": "GPU"
  },
  "cells": [
    {
      "cell_type": "markdown",
      "metadata": {
        "id": "view-in-github",
        "colab_type": "text"
      },
      "source": [
        "<a href=\"https://colab.research.google.com/github/ejdogar/NLP/blob/main/Word_Embedding.ipynb\" target=\"_parent\"><img src=\"https://colab.research.google.com/assets/colab-badge.svg\" alt=\"Open In Colab\"/></a>"
      ]
    },
    {
      "cell_type": "code",
      "execution_count": 12,
      "metadata": {
        "id": "pN3SjHAwwO6f"
      },
      "outputs": [],
      "source": [
        "docs = [\"Hey how are you\",\n",
        "        \"Hey whats up\",\n",
        "        \"Pakistan lost the match\",\n",
        "        \"it is raining\",\n",
        "        \"Charles Leclerc will be the F1 champion of 2024\",\n",
        "        \"Ronaldo is the best football player\",\n",
        "        \"Schumacher was the best driver ever\",\n",
        "        \"Lewis Hamilton is a cheat\",\n",
        "        \"Sebastian Vettel is struggling\"\n",
        "        ]"
      ]
    },
    {
      "cell_type": "code",
      "source": [
        "from keras.preprocessing.text import Tokenizer\n",
        "tokenizer = Tokenizer()"
      ],
      "metadata": {
        "id": "wMsfHjGhxpBb"
      },
      "execution_count": 13,
      "outputs": []
    },
    {
      "cell_type": "code",
      "source": [
        "tokenizer.fit_on_texts(docs)"
      ],
      "metadata": {
        "id": "hWtip0ybx4zN"
      },
      "execution_count": 14,
      "outputs": []
    },
    {
      "cell_type": "code",
      "source": [
        "len(tokenizer.word_index)"
      ],
      "metadata": {
        "colab": {
          "base_uri": "https://localhost:8080/"
        },
        "id": "uakF0nqyyNbv",
        "outputId": "e3116b60-53cb-4e80-e5f2-225bafdfff32"
      },
      "execution_count": 15,
      "outputs": [
        {
          "output_type": "execute_result",
          "data": {
            "text/plain": [
              "36"
            ]
          },
          "metadata": {},
          "execution_count": 15
        }
      ]
    },
    {
      "cell_type": "code",
      "source": [
        "tokenizer.word_index"
      ],
      "metadata": {
        "colab": {
          "base_uri": "https://localhost:8080/"
        },
        "id": "-UdY9UN-ybNw",
        "outputId": "ebee83b4-a9fc-4c28-f036-b2c0b4ac8e4c"
      },
      "execution_count": 16,
      "outputs": [
        {
          "output_type": "execute_result",
          "data": {
            "text/plain": [
              "{'the': 1,\n",
              " 'is': 2,\n",
              " 'hey': 3,\n",
              " 'best': 4,\n",
              " 'how': 5,\n",
              " 'are': 6,\n",
              " 'you': 7,\n",
              " 'whats': 8,\n",
              " 'up': 9,\n",
              " 'pakistan': 10,\n",
              " 'lost': 11,\n",
              " 'match': 12,\n",
              " 'it': 13,\n",
              " 'raining': 14,\n",
              " 'charles': 15,\n",
              " 'leclerc': 16,\n",
              " 'will': 17,\n",
              " 'be': 18,\n",
              " 'f1': 19,\n",
              " 'champion': 20,\n",
              " 'of': 21,\n",
              " '2024': 22,\n",
              " 'ronaldo': 23,\n",
              " 'football': 24,\n",
              " 'player': 25,\n",
              " 'schumacher': 26,\n",
              " 'was': 27,\n",
              " 'driver': 28,\n",
              " 'ever': 29,\n",
              " 'lewis': 30,\n",
              " 'hamilton': 31,\n",
              " 'a': 32,\n",
              " 'cheat': 33,\n",
              " 'sebastian': 34,\n",
              " 'vettel': 35,\n",
              " 'struggling': 36}"
            ]
          },
          "metadata": {},
          "execution_count": 16
        }
      ]
    },
    {
      "cell_type": "code",
      "source": [
        "sequences = tokenizer.texts_to_sequences(docs)\n",
        "sequences"
      ],
      "metadata": {
        "colab": {
          "base_uri": "https://localhost:8080/"
        },
        "id": "6dQdk4nWy7zM",
        "outputId": "522d63d1-b898-4ea3-85d8-0af2980b2d3f"
      },
      "execution_count": 17,
      "outputs": [
        {
          "output_type": "execute_result",
          "data": {
            "text/plain": [
              "[[3, 5, 6, 7],\n",
              " [3, 8, 9],\n",
              " [10, 11, 1, 12],\n",
              " [13, 2, 14],\n",
              " [15, 16, 17, 18, 1, 19, 20, 21, 22],\n",
              " [23, 2, 1, 4, 24, 25],\n",
              " [26, 27, 1, 4, 28, 29],\n",
              " [30, 31, 2, 32, 33],\n",
              " [34, 35, 2, 36]]"
            ]
          },
          "metadata": {},
          "execution_count": 17
        }
      ]
    },
    {
      "cell_type": "code",
      "source": [
        "from keras.utils import pad_sequences\n",
        "#padding=\"post\" will add the padding after the actual sequence i.e., to the right of the sequence\n",
        "sequences = pad_sequences(sequences, padding=\"post\")\n",
        "sequences"
      ],
      "metadata": {
        "colab": {
          "base_uri": "https://localhost:8080/"
        },
        "id": "M67lE5yqzNkp",
        "outputId": "5b82b484-8625-4d1b-ccad-6fc98b8449d2"
      },
      "execution_count": 18,
      "outputs": [
        {
          "output_type": "execute_result",
          "data": {
            "text/plain": [
              "array([[ 3,  5,  6,  7,  0,  0,  0,  0,  0],\n",
              "       [ 3,  8,  9,  0,  0,  0,  0,  0,  0],\n",
              "       [10, 11,  1, 12,  0,  0,  0,  0,  0],\n",
              "       [13,  2, 14,  0,  0,  0,  0,  0,  0],\n",
              "       [15, 16, 17, 18,  1, 19, 20, 21, 22],\n",
              "       [23,  2,  1,  4, 24, 25,  0,  0,  0],\n",
              "       [26, 27,  1,  4, 28, 29,  0,  0,  0],\n",
              "       [30, 31,  2, 32, 33,  0,  0,  0,  0],\n",
              "       [34, 35,  2, 36,  0,  0,  0,  0,  0]], dtype=int32)"
            ]
          },
          "metadata": {},
          "execution_count": 18
        }
      ]
    },
    {
      "cell_type": "code",
      "source": [
        "from keras.layers import Embedding, Dense\n",
        "from keras.models import Sequential"
      ],
      "metadata": {
        "id": "rNd7VKZkz82e"
      },
      "execution_count": 19,
      "outputs": []
    },
    {
      "cell_type": "code",
      "source": [
        "model = Sequential()\n",
        "# vocab_length = 36, output_dim = 2 : every word would be represented by 2 numbers, input_length = input_dim\n",
        "model.add(Embedding(36, output_dim = 2, input_length = 9))\n",
        "\n",
        "model.summary()"
      ],
      "metadata": {
        "colab": {
          "base_uri": "https://localhost:8080/"
        },
        "id": "kR9XRQkG0aiT",
        "outputId": "fcf8509f-79db-4136-8754-203277af4deb"
      },
      "execution_count": 20,
      "outputs": [
        {
          "output_type": "stream",
          "name": "stdout",
          "text": [
            "Model: \"sequential_1\"\n",
            "_________________________________________________________________\n",
            " Layer (type)                Output Shape              Param #   \n",
            "=================================================================\n",
            " embedding_1 (Embedding)     (None, 9, 2)              72        \n",
            "                                                                 \n",
            "=================================================================\n",
            "Total params: 72 (288.00 Byte)\n",
            "Trainable params: 72 (288.00 Byte)\n",
            "Non-trainable params: 0 (0.00 Byte)\n",
            "_________________________________________________________________\n"
          ]
        }
      ]
    },
    {
      "cell_type": "code",
      "source": [
        "model.compile(optimizer = \"adam\", metrics = [\"accuracy\"])"
      ],
      "metadata": {
        "id": "nkHHw92G3CTe"
      },
      "execution_count": 21,
      "outputs": []
    },
    {
      "cell_type": "code",
      "source": [
        "pred = model.predict(sequences)\n",
        "print(pred)"
      ],
      "metadata": {
        "colab": {
          "base_uri": "https://localhost:8080/"
        },
        "id": "UWXSwnlK3Tzp",
        "outputId": "d81e05c8-a3af-4243-c37c-7ce27ecbb6f2"
      },
      "execution_count": 22,
      "outputs": [
        {
          "output_type": "stream",
          "name": "stdout",
          "text": [
            "1/1 [==============================] - 0s 33ms/step\n",
            "[[[-2.8573954e-02  1.1956979e-02]\n",
            "  [ 2.3250651e-02 -4.8019983e-02]\n",
            "  [-4.8375584e-02  1.7250527e-02]\n",
            "  [-1.8943772e-03  5.1761493e-03]\n",
            "  [ 3.5062697e-02 -5.7137124e-03]\n",
            "  [ 3.5062697e-02 -5.7137124e-03]\n",
            "  [ 3.5062697e-02 -5.7137124e-03]\n",
            "  [ 3.5062697e-02 -5.7137124e-03]\n",
            "  [ 3.5062697e-02 -5.7137124e-03]]\n",
            "\n",
            " [[-2.8573954e-02  1.1956979e-02]\n",
            "  [ 3.7582073e-02  4.4982322e-03]\n",
            "  [ 1.5744690e-02  2.7094271e-02]\n",
            "  [ 3.5062697e-02 -5.7137124e-03]\n",
            "  [ 3.5062697e-02 -5.7137124e-03]\n",
            "  [ 3.5062697e-02 -5.7137124e-03]\n",
            "  [ 3.5062697e-02 -5.7137124e-03]\n",
            "  [ 3.5062697e-02 -5.7137124e-03]\n",
            "  [ 3.5062697e-02 -5.7137124e-03]]\n",
            "\n",
            " [[-1.6196560e-02 -3.9579678e-02]\n",
            "  [-2.7627422e-02 -3.3204667e-03]\n",
            "  [ 2.2336315e-02 -4.1149843e-02]\n",
            "  [ 3.5224546e-02 -5.1923841e-04]\n",
            "  [ 3.5062697e-02 -5.7137124e-03]\n",
            "  [ 3.5062697e-02 -5.7137124e-03]\n",
            "  [ 3.5062697e-02 -5.7137124e-03]\n",
            "  [ 3.5062697e-02 -5.7137124e-03]\n",
            "  [ 3.5062697e-02 -5.7137124e-03]]\n",
            "\n",
            " [[ 3.9411668e-02 -4.0010534e-02]\n",
            "  [-9.3270540e-03  3.8371276e-02]\n",
            "  [ 2.3037497e-02 -3.0968262e-02]\n",
            "  [ 3.5062697e-02 -5.7137124e-03]\n",
            "  [ 3.5062697e-02 -5.7137124e-03]\n",
            "  [ 3.5062697e-02 -5.7137124e-03]\n",
            "  [ 3.5062697e-02 -5.7137124e-03]\n",
            "  [ 3.5062697e-02 -5.7137124e-03]\n",
            "  [ 3.5062697e-02 -5.7137124e-03]]\n",
            "\n",
            " [[ 4.3525208e-02  7.0341714e-03]\n",
            "  [-2.8201843e-02  4.3472413e-02]\n",
            "  [ 7.5828284e-05  1.8482875e-02]\n",
            "  [ 1.3477337e-02 -1.7853927e-02]\n",
            "  [ 2.2336315e-02 -4.1149843e-02]\n",
            "  [ 2.7684655e-02 -2.1476269e-02]\n",
            "  [ 1.8230546e-02 -1.9417573e-02]\n",
            "  [-1.7561354e-02 -7.8274496e-03]\n",
            "  [-2.3709571e-02  8.8951960e-03]]\n",
            "\n",
            " [[ 4.9081709e-02 -1.9267833e-02]\n",
            "  [-9.3270540e-03  3.8371276e-02]\n",
            "  [ 2.2336315e-02 -4.1149843e-02]\n",
            "  [-3.3500873e-02 -3.7874162e-02]\n",
            "  [-2.0320510e-02  3.5967674e-02]\n",
            "  [ 2.4566773e-02  2.5660027e-02]\n",
            "  [ 3.5062697e-02 -5.7137124e-03]\n",
            "  [ 3.5062697e-02 -5.7137124e-03]\n",
            "  [ 3.5062697e-02 -5.7137124e-03]]\n",
            "\n",
            " [[ 3.5508107e-02 -3.3260703e-02]\n",
            "  [-4.7778003e-03  6.6444986e-03]\n",
            "  [ 2.2336315e-02 -4.1149843e-02]\n",
            "  [-3.3500873e-02 -3.7874162e-02]\n",
            "  [-3.7944816e-02  1.0452628e-02]\n",
            "  [-2.6778733e-02  5.3998604e-03]\n",
            "  [ 3.5062697e-02 -5.7137124e-03]\n",
            "  [ 3.5062697e-02 -5.7137124e-03]\n",
            "  [ 3.5062697e-02 -5.7137124e-03]]\n",
            "\n",
            " [[ 1.6683433e-02 -4.9848355e-02]\n",
            "  [ 2.0477902e-02  2.2147421e-02]\n",
            "  [-9.3270540e-03  3.8371276e-02]\n",
            "  [-1.3970304e-02  4.2418841e-02]\n",
            "  [ 3.3901084e-02 -2.0134866e-02]\n",
            "  [ 3.5062697e-02 -5.7137124e-03]\n",
            "  [ 3.5062697e-02 -5.7137124e-03]\n",
            "  [ 3.5062697e-02 -5.7137124e-03]\n",
            "  [ 3.5062697e-02 -5.7137124e-03]]\n",
            "\n",
            " [[ 2.7695362e-02 -2.6766770e-03]\n",
            "  [-2.1007765e-02  3.3545796e-02]\n",
            "  [-9.3270540e-03  3.8371276e-02]\n",
            "  [ 0.0000000e+00  0.0000000e+00]\n",
            "  [ 3.5062697e-02 -5.7137124e-03]\n",
            "  [ 3.5062697e-02 -5.7137124e-03]\n",
            "  [ 3.5062697e-02 -5.7137124e-03]\n",
            "  [ 3.5062697e-02 -5.7137124e-03]\n",
            "  [ 3.5062697e-02 -5.7137124e-03]]]\n"
          ]
        }
      ]
    }
  ]
}