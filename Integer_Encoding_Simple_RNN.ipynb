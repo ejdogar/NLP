{
  "cells": [
    {
      "cell_type": "markdown",
      "metadata": {
        "id": "view-in-github",
        "colab_type": "text"
      },
      "source": [
        "<a href=\"https://colab.research.google.com/github/ejdogar/NLP/blob/main/Integer_Encoding_Simple_RNN.ipynb\" target=\"_parent\"><img src=\"https://colab.research.google.com/assets/colab-badge.svg\" alt=\"Open In Colab\"/></a>"
      ]
    },
    {
      "cell_type": "code",
      "execution_count": 10,
      "metadata": {
        "id": "Yvyj2vf0aAPV"
      },
      "outputs": [],
      "source": [
        "import numpy as np"
      ]
    },
    {
      "cell_type": "code",
      "execution_count": 11,
      "metadata": {
        "id": "XOkqYm6La_PF"
      },
      "outputs": [],
      "source": [
        "with open(\"/content/drive/MyDrive/Atomcamp/NLP/CNN/labels.txt\", \"r\") as f:\n",
        "  labels = f.read()\n",
        "\n",
        "with open(\"/content/drive/MyDrive/Atomcamp/NLP/CNN/reviews.txt\", \"r\") as f:\n",
        "  reviews = f.read()"
      ]
    },
    {
      "cell_type": "code",
      "execution_count": 12,
      "metadata": {
        "colab": {
          "base_uri": "https://localhost:8080/"
        },
        "id": "vX0kMCjybVF4",
        "outputId": "6e2e796f-f277-4beb-f9e8-f26abf5505ef"
      },
      "outputs": [
        {
          "output_type": "stream",
          "name": "stdout",
          "text": [
            "Labels :  positive\n",
            "n\n",
            "Reviews:  bromwell high is a cartoon comedy . it ran at the same time as some other programs about school life\n"
          ]
        }
      ],
      "source": [
        "print(\"Labels : \", labels[:10])\n",
        "print(\"Reviews: \", reviews[:100])"
      ]
    },
    {
      "cell_type": "markdown",
      "metadata": {
        "id": "-oYVLR_ab0c6"
      },
      "source": [
        "# Step 1: Data Preprocessing"
      ]
    },
    {
      "cell_type": "markdown",
      "metadata": {
        "id": "P7V1kqBqb3_j"
      },
      "source": [
        "#### 1.1 Removing Punctuations"
      ]
    },
    {
      "cell_type": "code",
      "execution_count": 13,
      "metadata": {
        "colab": {
          "base_uri": "https://localhost:8080/"
        },
        "id": "iMLltaZib9IO",
        "outputId": "af28b9ea-360a-4194-971e-dfd8457af4c3"
      },
      "outputs": [
        {
          "output_type": "execute_result",
          "data": {
            "text/plain": [
              "6020196"
            ]
          },
          "metadata": {},
          "execution_count": 13
        }
      ],
      "source": [
        "from string import punctuation\n",
        "import re as r\n",
        "\n",
        "reviews = reviews.lower()\n",
        "\n",
        "\n",
        "all_text = \"\".join([c for c in reviews if c not in punctuation])\n",
        "\n",
        "#splitting the all_text based on line split so that we can get out all_reviews array\n",
        "all_reviews = all_text.split(\"\\n\")\n",
        "\n",
        "#getting our vocabulary\n",
        "all_words = all_text.split()\n",
        "len(all_words)"
      ]
    },
    {
      "cell_type": "code",
      "source": [
        "labels = labels.split(\"\\n\")"
      ],
      "metadata": {
        "id": "E454eAbSACPi"
      },
      "execution_count": 14,
      "outputs": []
    },
    {
      "cell_type": "code",
      "source": [
        "print(f\"Length of reviews before removing outliers: {len(all_reviews)}\")\n",
        "print(f\"Length of labels before removing outliers: {len(labels)}\")\n",
        "zero_indexes = []\n",
        "for index, review in enumerate(all_reviews):\n",
        "  if (len(review) == 0):\n",
        "    zero_indexes.append(index)\n",
        "    print(\"Reviews length at \",index,\" is : \",len(reviews[index]))\n",
        "    print(\"Label length at \",index,\" is : \",len(labels[index]))\n",
        "\n",
        "for i in zero_indexes:\n",
        "  labels.pop(i)\n",
        "  all_reviews.pop(i)\n",
        "\n",
        "print(f\"Length of reviews after removing outliers: {len(all_reviews)}\")\n",
        "print(f\"Length of labels after removing outliers: {len(labels)}\")"
      ],
      "metadata": {
        "colab": {
          "base_uri": "https://localhost:8080/"
        },
        "id": "dqxk7dbF9NL8",
        "outputId": "33d2f4f3-dc32-44a3-f7da-816fbb058ab3"
      },
      "execution_count": 15,
      "outputs": [
        {
          "output_type": "stream",
          "name": "stdout",
          "text": [
            "Length of reviews before removing outliers: 25001\n",
            "Length of labels before removing outliers: 25001\n",
            "Reviews length at  25000  is :  1\n",
            "Label length at  25000  is :  0\n",
            "Length of reviews after removing outliers: 25000\n",
            "Length of labels after removing outliers: 25000\n"
          ]
        }
      ]
    },
    {
      "cell_type": "markdown",
      "source": [
        "#### 1.2 Converting Words into Integers"
      ],
      "metadata": {
        "id": "RNAW0O5mizID"
      }
    },
    {
      "cell_type": "code",
      "source": [
        "from collections import Counter\n",
        "\n",
        "#Counter function will return of number of occurence of each word in the text\n",
        "counts = Counter(all_words)\n",
        "\n",
        "#sorting the Counter based on values and saving it into the list\n",
        "vocab = sorted(counts, key=counts.get, reverse = True)\n",
        "\n",
        "vocab_to_int = {word: index for index, word in enumerate(vocab, start = 1)}\n"
      ],
      "metadata": {
        "id": "3sYsgG6_iUsT"
      },
      "execution_count": 16,
      "outputs": []
    },
    {
      "cell_type": "markdown",
      "source": [
        "### 1.3 Converting reviews to integers"
      ],
      "metadata": {
        "id": "bHSawuMnqlnl"
      }
    },
    {
      "cell_type": "code",
      "source": [
        "all_reviews_int = [] #tokenizzed reviews\n",
        "for review in all_reviews:\n",
        "  temp_array = []\n",
        "  for word in review.split():\n",
        "    temp_array.append(vocab_to_int[word])\n",
        "  all_reviews_int.append(temp_array)"
      ],
      "metadata": {
        "id": "XCxZ7rG2qpIV"
      },
      "execution_count": 17,
      "outputs": []
    },
    {
      "cell_type": "code",
      "source": [
        "# stats about vocabulary\n",
        "print('Unique words: ', len((vocab_to_int)))\n",
        "print()\n",
        "\n",
        "# print tokens in first review\n",
        "print('Tokenized review: \\n', all_reviews_int[:1])"
      ],
      "metadata": {
        "colab": {
          "base_uri": "https://localhost:8080/"
        },
        "id": "zITzCfj0mnkz",
        "outputId": "2cc99c3f-e24c-46c1-abe4-dbf25e502e09"
      },
      "execution_count": 18,
      "outputs": [
        {
          "output_type": "stream",
          "name": "stdout",
          "text": [
            "Unique words:  74072\n",
            "\n",
            "Tokenized review: \n",
            " [[21025, 308, 6, 3, 1050, 207, 8, 2138, 32, 1, 171, 57, 15, 49, 81, 5785, 44, 382, 110, 140, 15, 5194, 60, 154, 9, 1, 4975, 5852, 475, 71, 5, 260, 12, 21025, 308, 13, 1978, 6, 74, 2395, 5, 613, 73, 6, 5194, 1, 24103, 5, 1983, 10166, 1, 5786, 1499, 36, 51, 66, 204, 145, 67, 1199, 5194, 19869, 1, 37442, 4, 1, 221, 883, 31, 2988, 71, 4, 1, 5787, 10, 686, 2, 67, 1499, 54, 10, 216, 1, 383, 9, 62, 3, 1406, 3686, 783, 5, 3483, 180, 1, 382, 10, 1212, 13583, 32, 308, 3, 349, 341, 2913, 10, 143, 127, 5, 7690, 30, 4, 129, 5194, 1406, 2326, 5, 21025, 308, 10, 528, 12, 109, 1448, 4, 60, 543, 102, 12, 21025, 308, 6, 227, 4146, 48, 3, 2211, 12, 8, 215, 23]]\n"
          ]
        }
      ]
    },
    {
      "cell_type": "markdown",
      "source": [
        "#### 1.4 Encoding Labels"
      ],
      "metadata": {
        "id": "5rRNzXgc0fg5"
      }
    },
    {
      "cell_type": "code",
      "source": [
        "encoded_labels = np.array([1 if label == \"positive\" else 0 for label in labels])\n",
        "encoded_labels[0:4]"
      ],
      "metadata": {
        "colab": {
          "base_uri": "https://localhost:8080/"
        },
        "id": "K_uYmnMQ0GVz",
        "outputId": "ff438473-06e2-4351-f40c-8dded7356d86"
      },
      "execution_count": 19,
      "outputs": [
        {
          "output_type": "execute_result",
          "data": {
            "text/plain": [
              "array([1, 0, 1, 0])"
            ]
          },
          "metadata": {},
          "execution_count": 19
        }
      ]
    },
    {
      "cell_type": "markdown",
      "source": [
        "#### 1.5 Padding\n",
        "\n",
        "Padding/ truncating the data, so that all our reviews have same length\n",
        "\n"
      ],
      "metadata": {
        "id": "odKii3tp17OY"
      }
    },
    {
      "cell_type": "code",
      "source": [
        "def pad_features(all_reviews_int, seq_length):\n",
        "  features = np.zeros((len(all_reviews_int), seq_length), dtype=int)\n",
        "\n",
        "  for index, review in enumerate(all_reviews_int):\n",
        "    #-len(review):] indicates that the row would be added in the matrix from right to left\n",
        "    features[index, -len(review):] = np.array(review)[:seq_length]\n",
        "\n",
        "  return features\n"
      ],
      "metadata": {
        "id": "Jyjn1oVL1qph"
      },
      "execution_count": 20,
      "outputs": []
    },
    {
      "cell_type": "code",
      "source": [
        "seq_length = 200\n",
        "#setting all sequence length to 200\n",
        "features = pad_features(all_reviews_int, seq_length=seq_length)"
      ],
      "metadata": {
        "id": "aQgk9wyHFWGi"
      },
      "execution_count": 21,
      "outputs": []
    },
    {
      "cell_type": "code",
      "source": [
        "assert len(features)==len(all_reviews_int), \"Your features should have as many rows as reviews.\"\n",
        "assert len(features[0])==seq_length, \"Each feature row should contain seq_length values.\""
      ],
      "metadata": {
        "id": "t3vaQYI0N6zo"
      },
      "execution_count": 22,
      "outputs": []
    },
    {
      "cell_type": "code",
      "source": [
        "print(features[0])"
      ],
      "metadata": {
        "colab": {
          "base_uri": "https://localhost:8080/"
        },
        "id": "dGDLdDlUOaUa",
        "outputId": "92d2cb6c-5558-4e9a-f2db-4ac17e63b612"
      },
      "execution_count": 23,
      "outputs": [
        {
          "output_type": "stream",
          "name": "stdout",
          "text": [
            "[    0     0     0     0     0     0     0     0     0     0     0     0\n",
            "     0     0     0     0     0     0     0     0     0     0     0     0\n",
            "     0     0     0     0     0     0     0     0     0     0     0     0\n",
            "     0     0     0     0     0     0     0     0     0     0     0     0\n",
            "     0     0     0     0     0     0     0     0     0     0     0     0\n",
            " 21025   308     6     3  1050   207     8  2138    32     1   171    57\n",
            "    15    49    81  5785    44   382   110   140    15  5194    60   154\n",
            "     9     1  4975  5852   475    71     5   260    12 21025   308    13\n",
            "  1978     6    74  2395     5   613    73     6  5194     1 24103     5\n",
            "  1983 10166     1  5786  1499    36    51    66   204   145    67  1199\n",
            "  5194 19869     1 37442     4     1   221   883    31  2988    71     4\n",
            "     1  5787    10   686     2    67  1499    54    10   216     1   383\n",
            "     9    62     3  1406  3686   783     5  3483   180     1   382    10\n",
            "  1212 13583    32   308     3   349   341  2913    10   143   127     5\n",
            "  7690    30     4   129  5194  1406  2326     5 21025   308    10   528\n",
            "    12   109  1448     4    60   543   102    12 21025   308     6   227\n",
            "  4146    48     3  2211    12     8   215    23]\n"
          ]
        }
      ]
    },
    {
      "cell_type": "markdown",
      "source": [
        "# Step 2: Training, Validation, Test\n",
        "\n",
        "With our data in nice shape, we'll split it into training, validation, and test sets."
      ],
      "metadata": {
        "id": "KTqRknnhg0rg"
      }
    },
    {
      "cell_type": "code",
      "source": [
        "split_frac = 0.8\n",
        "\n",
        "split_idx = int(len(features)*split_frac)\n",
        "train_x, remaining_x = features[:split_idx], features[split_idx:]\n",
        "train_y, remaining_y = encoded_labels[:split_idx], encoded_labels[split_idx:]\n",
        "\n",
        "test_idx = int(len(remaining_x)*0.5)\n",
        "val_x, test_x = remaining_x[:test_idx], remaining_x[test_idx:]\n",
        "val_y, test_y = remaining_y[:test_idx], remaining_y[test_idx:]\n",
        "\n",
        "print(\"\\t\\t\\tFeature Shapes:\")\n",
        "print(\"Train set: \\t\\t{}\".format(train_x.shape),\n",
        "      \"\\nValidation set: \\t{}\".format(val_x.shape),\n",
        "      \"\\nTest set: \\t\\t{}\".format(test_x.shape))"
      ],
      "metadata": {
        "colab": {
          "base_uri": "https://localhost:8080/"
        },
        "id": "CJkOum1OOrOw",
        "outputId": "4eae26df-b9bc-4823-ed02-9c4c309c48c5"
      },
      "execution_count": 24,
      "outputs": [
        {
          "output_type": "stream",
          "name": "stdout",
          "text": [
            "\t\t\tFeature Shapes:\n",
            "Train set: \t\t(20000, 200) \n",
            "Validation set: \t(2500, 200) \n",
            "Test set: \t\t(2500, 200)\n"
          ]
        }
      ]
    },
    {
      "cell_type": "code",
      "source": [
        "from keras.layers import Dense, SimpleRNN\n",
        "from keras.models import Sequential"
      ],
      "metadata": {
        "id": "rBEJ0452lWi8"
      },
      "execution_count": 28,
      "outputs": []
    },
    {
      "cell_type": "code",
      "source": [
        "model = Sequential()\n",
        "#input_shape = timesteps x no of features feature\n",
        "# return_sequence = False because we want out output at one end and don't want to collect it after every hidden_state\n",
        "model.add(SimpleRNN(32, input_shape=(200, 1), return_state = False))\n",
        "model.add(Dense(1, activation = \"sigmoid\"))\n",
        "\n",
        "model.summary()"
      ],
      "metadata": {
        "colab": {
          "base_uri": "https://localhost:8080/"
        },
        "id": "d6P4Xn7bmTWk",
        "outputId": "8ecf3aab-fdeb-4593-eba7-de2a142e33d1"
      },
      "execution_count": 29,
      "outputs": [
        {
          "output_type": "stream",
          "name": "stdout",
          "text": [
            "Model: \"sequential_3\"\n",
            "_________________________________________________________________\n",
            " Layer (type)                Output Shape              Param #   \n",
            "=================================================================\n",
            " simple_rnn_1 (SimpleRNN)    (None, 32)                1088      \n",
            "                                                                 \n",
            " dense_1 (Dense)             (None, 1)                 33        \n",
            "                                                                 \n",
            "=================================================================\n",
            "Total params: 1121 (4.38 KB)\n",
            "Trainable params: 1121 (4.38 KB)\n",
            "Non-trainable params: 0 (0.00 Byte)\n",
            "_________________________________________________________________\n"
          ]
        }
      ]
    },
    {
      "cell_type": "code",
      "source": [
        "model.compile(loss = \"binary_crossentropy\", optimizer = \"adam\", metrics = [\"accuracy\"])\n",
        "\n",
        "model.fit(train_x, train_y, epochs = 5, validation_data = (val_x, val_y))"
      ],
      "metadata": {
        "colab": {
          "base_uri": "https://localhost:8080/"
        },
        "id": "D72UwWIjo-Iz",
        "outputId": "dfe5b59c-5762-48ef-faed-a73d52deddfd"
      },
      "execution_count": 32,
      "outputs": [
        {
          "output_type": "stream",
          "name": "stdout",
          "text": [
            "Epoch 1/5\n",
            "625/625 [==============================] - 21s 32ms/step - loss: 0.6974 - accuracy: 0.5079 - val_loss: 0.6964 - val_accuracy: 0.4992\n",
            "Epoch 2/5\n",
            "625/625 [==============================] - 20s 32ms/step - loss: 0.6938 - accuracy: 0.5082 - val_loss: 0.6959 - val_accuracy: 0.4996\n",
            "Epoch 3/5\n",
            "625/625 [==============================] - 18s 29ms/step - loss: 0.6942 - accuracy: 0.5013 - val_loss: 0.6942 - val_accuracy: 0.5060\n",
            "Epoch 4/5\n",
            "625/625 [==============================] - 19s 30ms/step - loss: 0.6937 - accuracy: 0.5080 - val_loss: 0.6959 - val_accuracy: 0.4972\n",
            "Epoch 5/5\n",
            "625/625 [==============================] - 22s 35ms/step - loss: 0.6934 - accuracy: 0.5088 - val_loss: 0.6944 - val_accuracy: 0.5024\n"
          ]
        },
        {
          "output_type": "execute_result",
          "data": {
            "text/plain": [
              "<keras.src.callbacks.History at 0x7eb964408e80>"
            ]
          },
          "metadata": {},
          "execution_count": 32
        }
      ]
    }
  ],
  "metadata": {
    "colab": {
      "provenance": [],
      "mount_file_id": "1UzL8mgySf4vBXO-nP1PWpaQ-J2SjaepX",
      "authorship_tag": "ABX9TyNv9+R5SR1zx0HBBFZWVY0A",
      "include_colab_link": true
    },
    "kernelspec": {
      "display_name": "Python 3",
      "name": "python3"
    },
    "language_info": {
      "name": "python"
    }
  },
  "nbformat": 4,
  "nbformat_minor": 0
}